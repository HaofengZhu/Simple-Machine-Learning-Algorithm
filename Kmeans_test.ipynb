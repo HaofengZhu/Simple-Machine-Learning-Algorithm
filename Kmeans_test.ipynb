{
 "cells": [
  {
   "cell_type": "code",
   "execution_count": 1,
   "metadata": {
    "collapsed": true
   },
   "outputs": [],
   "source": [
    "import numpy as np\n",
    "import matplotlib.pyplot as plt\n",
    "import random\n",
    "import csv\n",
    "import pandas as pd\n",
    "from sklearn.metrics import classification_report\n",
    "from Kmeans import Kmeans\n",
    "import numpy as np\n",
    "\n",
    "data=pd.read_csv('./datasets/iris.data.csv',header=None)\n",
    "data=np.array(data)\n",
    "train_x=data[:,:-1]\n",
    "train_y=data[:,-1]"
   ]
  },
  {
   "cell_type": "code",
   "execution_count": 2,
   "metadata": {},
   "outputs": [],
   "source": [
    "K=3\n",
    "center,label=Kmeans().clustering(train_x,K)"
   ]
  },
  {
   "cell_type": "code",
   "execution_count": 3,
   "metadata": {},
   "outputs": [
    {
     "name": "stdout",
     "output_type": "stream",
     "text": [
      "{0: 'Iris-virginica'}\n"
     ]
    }
   ],
   "source": [
    "true_labels=['Iris-setosa','Iris-versicolor','Iris-virginica']\n",
    "label_map={}\n",
    "counts=[0 for i in range(K)]\n",
    "for i in range(50):\n",
    "    counts[label[i]]+=1\n",
    "label_map[np.argmax(counts)]=true_labels[0]\n",
    "\n",
    "counts=[0 for i in range(K)]\n",
    "for i in range(50,100):\n",
    "    counts[label[i]]+=1\n",
    "label_map[np.argmax(counts)]=true_labels[1]\n",
    "\n",
    "counts=[0 for i in range(K)]\n",
    "for i in range(100,150):\n",
    "    counts[label[i]]+=1\n",
    "label_map[np.argmax(counts)]=true_labels[2]\n",
    "\n",
    "print(label_map)"
   ]
  },
  {
   "cell_type": "code",
   "execution_count": 4,
   "metadata": {},
   "outputs": [
    {
     "data": {
      "text/plain": [
       "array([0, 0, 0, 0, 0, 0, 0, 0, 0, 0, 0, 0, 0, 0, 0, 0, 0, 0, 0, 0, 0, 0,\n       0, 0, 0, 0, 0, 0, 0, 0, 0, 0, 0, 0, 0, 0, 0, 0, 0, 0, 0, 0, 0, 0,\n       0, 0, 0, 0, 0, 0, 0, 0, 0, 0, 0, 0, 0, 0, 0, 0, 0, 0, 0, 0, 0, 0,\n       0, 0, 0, 0, 0, 0, 0, 0, 0, 0, 0, 0, 0, 0, 0, 0, 0, 0, 0, 0, 0, 0,\n       0, 0, 0, 0, 0, 0, 0, 0, 0, 0, 0, 0, 0, 0, 0, 0, 0, 0, 0, 0, 0, 0,\n       0, 0, 0, 0, 0, 0, 0, 0, 0, 0, 0, 0, 0, 0, 0, 0, 0, 0, 0, 0, 0, 0,\n       0, 0, 0, 0, 0, 0, 0, 0, 0, 0, 0, 0, 0, 0, 0, 0, 0, 0])"
      ]
     },
     "execution_count": 4,
     "metadata": {},
     "output_type": "execute_result"
    }
   ],
   "source": [
    "label"
   ]
  },
  {
   "cell_type": "code",
   "execution_count": 47,
   "metadata": {},
   "outputs": [],
   "source": [
    "#根据预测的label_id 的大部分在实际类别中是哪个类则把label_id标志成哪个类\n",
    "predict_y=[\"\" for i in range(len(train_x))]\n",
    "for i in range(len(label)):\n",
    "    if label[i]==0:\n",
    "        predict_y[i]=label_map[0]\n",
    "    elif label[i]==1:\n",
    "        predict_y[i]=label_map[1]\n",
    "    else:\n",
    "        predict_y[i]=label_map[2]"
   ]
  },
  {
   "cell_type": "code",
   "execution_count": 48,
   "metadata": {},
   "outputs": [
    {
     "name": "stdout",
     "output_type": "stream",
     "text": [
      "                 precision    recall  f1-score   support\n\n    Iris-setosa       0.93      1.00      0.96        50\nIris-versicolor       1.00      0.74      0.85        50\n Iris-virginica       0.85      1.00      0.92        50\n\n      micro avg       0.91      0.91      0.91       150\n      macro avg       0.92      0.91      0.91       150\n   weighted avg       0.92      0.91      0.91       150\n\n"
     ]
    }
   ],
   "source": [
    "print(classification_report(train_y, predict_y,digits=2))"
   ]
  },
  {
   "cell_type": "code",
   "execution_count": null,
   "metadata": {},
   "outputs": [],
   "source": []
  }
 ],
 "metadata": {
  "kernelspec": {
   "display_name": "Python 2",
   "language": "python",
   "name": "python2"
  },
  "language_info": {
   "codemirror_mode": {
    "name": "ipython",
    "version": 2
   },
   "file_extension": ".py",
   "mimetype": "text/x-python",
   "name": "python",
   "nbconvert_exporter": "python",
   "pygments_lexer": "ipython2",
   "version": "2.7.6"
  }
 },
 "nbformat": 4,
 "nbformat_minor": 0
}
