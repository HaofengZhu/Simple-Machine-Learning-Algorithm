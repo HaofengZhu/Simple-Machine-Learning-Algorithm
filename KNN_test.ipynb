{
 "cells": [
  {
   "cell_type": "code",
   "execution_count": 6,
   "metadata": {
    "collapsed": true
   },
   "outputs": [],
   "source": [
    "import numpy as np\n",
    "import matplotlib.pyplot as plt\n",
    "import random\n",
    "import csv\n",
    "import pandas as pd\n",
    "from sklearn.metrics import classification_report\n",
    "from KNN import KNN\n",
    "import numpy as np\n",
    "from math import sqrt\n",
    "import operator as opt\n",
    "data=pd.read_csv('./datasets/iris.data.csv',header=None)\n",
    "data=np.array(data)\n"
   ]
  },
  {
   "cell_type": "code",
   "execution_count": 7,
   "metadata": {},
   "outputs": [],
   "source": [
    "train=[]\n",
    "val=[]\n",
    "#随机化数组\n",
    "class1=list(range(50))\n",
    "random.shuffle(class1)\n",
    "class2=list(range(50,100))\n",
    "random.shuffle(class2)\n",
    "class3=list(range(100,150))\n",
    "random.shuffle(class3)\n",
    "#数据80%为训练集,分层取样\n",
    "train_percent=0.8\n",
    "for i in range(len(class1)):\n",
    "    if i < len(class1)*train_percent:\n",
    "        train.append(data[class1[i]])\n",
    "    else:\n",
    "        val.append(data[class1[i]])\n",
    "        \n",
    "for i in range(len(class2)):\n",
    "    if i < len(class2)*train_percent:\n",
    "        train.append(data[class2[i]])\n",
    "    else:\n",
    "        val.append(data[class2[i]])\n",
    "        \n",
    "for i in range(len(class3)):\n",
    "    if i < len(class3)*train_percent:\n",
    "        train.append(data[class3[i]])\n",
    "    else:\n",
    "        val.append(data[class3[i]])\n",
    "train=np.array(train)\n",
    "val=np.array(val)\n",
    "train_x=train[:,:-1]\n",
    "train_y=train[:,-1]\n",
    "val_x=val[:,:-1]\n",
    "val_y=val[:,-1]"
   ]
  },
  {
   "cell_type": "code",
   "execution_count": 8,
   "metadata": {
    "collapsed": true
   },
   "outputs": [],
   "source": [
    "knn=KNN()\n",
    "knn.fit(train_x,train_y)\n",
    "predict_y=knn.predict(val_x)"
   ]
  },
  {
   "cell_type": "code",
   "execution_count": 9,
   "metadata": {},
   "outputs": [
    {
     "name": "stdout",
     "output_type": "stream",
     "text": [
      "                 precision    recall  f1-score   support\n\n    Iris-setosa       1.00      1.00      1.00        10\nIris-versicolor       1.00      0.90      0.95        10\n Iris-virginica       0.91      1.00      0.95        10\n\n      micro avg       0.97      0.97      0.97        30\n      macro avg       0.97      0.97      0.97        30\n   weighted avg       0.97      0.97      0.97        30\n\n"
     ]
    }
   ],
   "source": [
    "print(classification_report(val_y, predict_y,digits=2))"
   ]
  },
  {
   "cell_type": "code",
   "execution_count": null,
   "metadata": {},
   "outputs": [],
   "source": []
  }
 ],
 "metadata": {
  "kernelspec": {
   "display_name": "Python 2",
   "language": "python",
   "name": "python2"
  },
  "language_info": {
   "codemirror_mode": {
    "name": "ipython",
    "version": 2
   },
   "file_extension": ".py",
   "mimetype": "text/x-python",
   "name": "python",
   "nbconvert_exporter": "python",
   "pygments_lexer": "ipython2",
   "version": "2.7.6"
  }
 },
 "nbformat": 4,
 "nbformat_minor": 0
}
